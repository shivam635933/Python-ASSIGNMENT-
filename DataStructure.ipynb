{
  "nbformat": 4,
  "nbformat_minor": 0,
  "metadata": {
    "colab": {
      "provenance": [],
      "authorship_tag": "ABX9TyM3Qc8J3WIt43Nrix27xmXY",
      "include_colab_link": true
    },
    "kernelspec": {
      "name": "python3",
      "display_name": "Python 3"
    },
    "language_info": {
      "name": "python"
    }
  },
  "cells": [
    {
      "cell_type": "markdown",
      "metadata": {
        "id": "view-in-github",
        "colab_type": "text"
      },
      "source": [
        "<a href=\"https://colab.research.google.com/github/shivam635933/Python-ASSIGNMENT-/blob/main/DataStructure.ipynb\" target=\"_parent\"><img src=\"https://colab.research.google.com/assets/colab-badge.svg\" alt=\"Open In Colab\"/></a>"
      ]
    },
    {
      "cell_type": "code",
      "execution_count": null,
      "metadata": {
        "id": "qS__qXSsR86e"
      },
      "outputs": [],
      "source": [
        "print(\"hello world\")\n",
        "\n",
        "#Numbers\n",
        "#a=3 , b=5  #a and b are number objects\n"
      ]
    },
    {
      "cell_type": "code",
      "source": [
        "#String\n",
        "str1 = 'Hello Students' #string str1\n",
        "str2 = ' how are you' #string str2\n",
        "str1\n",
        "str2\n",
        "print (str1[0:5]) #printing first five character using slice operator\n",
        "(str1[0:5])\n",
        "print (str1[4]) #printing 5th character of the string\n",
        "print (str1*2) #printing the string twice\n",
        "print (str1 + str2) #printing the concatenation of str1 and str2"
      ],
      "metadata": {
        "id": "vhHL43dYSBbh"
      },
      "execution_count": null,
      "outputs": []
    },
    {
      "cell_type": "code",
      "source": [
        "#Lists\n",
        "l  = [1, \"hi\", \"python\", True]\n",
        "print (l[3:])\n",
        "print (l[0:2])\n",
        "print (l)\n",
        "print (l + l)\n",
        "print (l * 3)\n",
        "print (type(l))\n",
        "#Lets try mutation\n",
        "l[1] = \"Bye\"\n",
        "print (l)"
      ],
      "metadata": {
        "id": "ZTfAXiNiSD2u"
      },
      "execution_count": null,
      "outputs": []
    },
    {
      "cell_type": "code",
      "source": [
        "#Tuple\n",
        "t  = ('hi', 'python', 2, 4)\n",
        "t\n",
        "print (t[1:]);\n",
        "print (t[0:3]);\n",
        "print (t);\n",
        "print (t + t)\n",
        "print (t * 3)\n",
        "print (type(t))\n",
        "#Lets try mutation\n",
        "t[1] = \"Bye\"\n",
        "print (t)"
      ],
      "metadata": {
        "id": "a5kuck_8SNUv"
      },
      "execution_count": null,
      "outputs": []
    },
    {
      "cell_type": "code",
      "source": [
        "#Dictionary\n",
        "d = {1:\"Jimmy\", 2:'Alex', 3:'john', 4:'mike'}\n",
        "d\n",
        "print(\"1st name is \"+d[1])\n",
        "print(\"2nd name is \"+ d[4])\n",
        "print (d);\n",
        "print (d.keys());\n",
        "print (d.values());\n"
      ],
      "metadata": {
        "id": "xsg6yjGWSRNj"
      },
      "execution_count": null,
      "outputs": []
    },
    {
      "cell_type": "code",
      "source": [
        "#----ADVANCED----\n",
        "#list\n",
        "#ordered collection of items; sequence of items in a list\n",
        "shoplist =['apple','carrot','mango', 'banana']\n",
        "shoplist\n",
        "len(shoplist)\n",
        "print(shoplist)\n",
        "\n",
        "#add item to list\n",
        "shoplist.append('rice')\n",
        "shoplist\n",
        "\n",
        "#sort\n",
        "shoplist.sort()  #inplace sort\n",
        "shoplist\n",
        "\n",
        "#index/select\n",
        "shoplist[0]\n",
        "shoplist[0:4]\n",
        "\n",
        "#delete item\n",
        "del shoplist[0]\n",
        "shoplist\n"
      ],
      "metadata": {
        "id": "w8w-2TaCSWaF"
      },
      "execution_count": null,
      "outputs": []
    },
    {
      "cell_type": "code",
      "source": [
        "#Tuple\n",
        "#Used to hold multiple object; similar to lists; less functionality than list\n",
        "#immutable - cannot modify- fast ; ( )\n",
        "zoo = ('python','lion','elephant','bird')\n",
        "zoo\n",
        "len(zoo)\n",
        "languages = 'c', 'java', 'php' , 1 #better to put (), this also works\n",
        "languages\n",
        "type(languages)\n"
      ],
      "metadata": {
        "id": "PqeA2LpXSam9"
      },
      "execution_count": null,
      "outputs": []
    },
    {
      "cell_type": "code",
      "source": [
        "#Dictionary - like an addressbook. use of associate keys with values\n",
        "#key-value pairs { 'key1':value1, 'key2':value2} ; { } bracket, :colon\n",
        "\n",
        "student = {'A101': 'Abhinav', 'A102': 'Ravi', 'A103':'Prafull', 'A104': 'Karan'}\n",
        "student\n",
        "student['A103']\n",
        "print('Name of rollno A103 is ' +student['A103'])\n",
        "del student['A104']\n",
        "student\n",
        "len(student)\n",
        "\n",
        "#for rollno, name in student.items():\n",
        "    #print('name of {} is {} '.format(rollno, name) )\n",
        "\n",
        "#Lets test Mutation:\n",
        "#adding a value\n",
        "student['A104'] = 'Hitesh'\n",
        "student\n"
      ],
      "metadata": {
        "id": "Vs4C3T2KSe3w"
      },
      "execution_count": null,
      "outputs": []
    },
    {
      "cell_type": "code",
      "source": [
        "#Set\n",
        "Anubhav = {1,2,3,4,5}\n",
        "Anubhav\n",
        "Aman_1 = set()\n",
        "Aman_1\n",
        "\n",
        "#Sets are unordered collections of objects; ( [ , ])\n",
        "teamA = set(['india','england','australia','sri lanka','ireland'])\n",
        "teamA\n",
        "teamB = set(['pakistan', 'south africa','bangladesh','ireland'])\n",
        "teamB\n",
        "\n",
        "#Checking whether a data value exists in a set or not.\n",
        "'india' in teamA\n",
        "'india' in teamB\n",
        "\n",
        "#Adding values in a set\n",
        "teamA.add('China')\n",
        "teamA  #puts in order\n",
        "teamA.add('india')\n",
        "teamA  #no duplicates\n",
        "teamA.remove('australia')\n",
        "teamA\n"
      ],
      "metadata": {
        "id": "hP3MLewaSmYo"
      },
      "execution_count": null,
      "outputs": []
    },
    {
      "cell_type": "code",
      "source": [
        "#Create dataframe :\n",
        "import pandas as pd\n",
        "\n",
        "#Create a DataFrame\n",
        "d = {'Name':['Alisa','Bobby','Cathrine','Alisa','Bobby','Cathrine',\n",
        "            'Alisa','Bobby','Cathrine','Alisa','Bobby','Cathrine'],\n",
        "            'Exam':['Semester 1','Semester 1','Semester 1','Semester 1','Semester 1','Semester 1',\n",
        "                    'Semester 2','Semester 2','Semester 2','Semester 2','Semester 2','Semester 2'],\n",
        "                    'Subject':['Mathematics','Mathematics','Mathematics','Science','Science','Science',\n",
        "                               'Mathematics','Mathematics','Mathematics','Science','Science','Science'],\n",
        "                               'Score':[62,47,55,74,31,77,85,63,42,67,89,81]}\n",
        "\n",
        "d\n",
        "\n",
        "df = pd.DataFrame(d,columns=['Name','Exam','Subject','Score'])\n",
        "df\n",
        "\n",
        "#View a column of the dataframe in pandas:\n",
        "df['Name']\n",
        "\n",
        "#View two columns of the dataframe in pandas:\n",
        "df[['Name','Score','Exam']]\n",
        "\n",
        "#View first two rows of the dataframe in pandas:\n",
        "df[0:2]"
      ],
      "metadata": {
        "id": "52Ddzv2jSyUg"
      },
      "execution_count": null,
      "outputs": []
    }
  ]
}