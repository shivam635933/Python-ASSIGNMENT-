{
  "nbformat": 4,
  "nbformat_minor": 0,
  "metadata": {
    "colab": {
      "provenance": [],
      "authorship_tag": "ABX9TyO6E1wTRUYI6ZLJpJ3hzBnY",
      "include_colab_link": true
    },
    "kernelspec": {
      "name": "python3",
      "display_name": "Python 3"
    },
    "language_info": {
      "name": "python"
    }
  },
  "cells": [
    {
      "cell_type": "markdown",
      "metadata": {
        "id": "view-in-github",
        "colab_type": "text"
      },
      "source": [
        "<a href=\"https://colab.research.google.com/github/shivam635933/Python-ASSIGNMENT-/blob/main/Loop_And_If_Statements.ipynb\" target=\"_parent\"><img src=\"https://colab.research.google.com/assets/colab-badge.svg\" alt=\"Open In Colab\"/></a>"
      ]
    },
    {
      "cell_type": "code",
      "execution_count": null,
      "metadata": {
        "id": "wrGjTSOsWY4O"
      },
      "outputs": [],
      "source": [
        "#--------------------------------Loops----------------------------------------\n",
        "#-------------For Loop---------------\n",
        "# for loop is used in case where we need to execute some part of the code until the given condition\n",
        "# is satisfied. It is better to use for loop if the number of iteration is known in advance.\n",
        "#It is frequently used to traverse the data structures like list, tuple, or dictionary.\n",
        "#Example1:\n",
        "i=0\n",
        "for i in range(0,10):\n",
        "    print(i,end =',')\n"
      ]
    },
    {
      "cell_type": "code",
      "source": [
        "#Example2:printing the table of the given number\n",
        "i=1\n",
        "num = int(input(\"Enter a number:\"))\n",
        "for i in range(1,11):\n",
        "    print(\"%a X %a = %a\" %(num,i,num*i))"
      ],
      "metadata": {
        "id": "0BDSoJvnWq4E"
      },
      "execution_count": null,
      "outputs": []
    },
    {
      "cell_type": "code",
      "source": [
        "#Example3:Nested For loop\n",
        "n = int(input(\"Enter the number of rows you want to print?\"))\n",
        "i,j=0,0\n",
        "for i in range(0,n):\n",
        "    print()\n",
        "    for j in range(0,i+1):\n",
        "        print(\"*\",end=\"\")"
      ],
      "metadata": {
        "id": "ruRNEJ3SWw1B"
      },
      "execution_count": null,
      "outputs": []
    },
    {
      "cell_type": "code",
      "source": [
        "#Exampl4: Else statement with For loop\n",
        "for i in range(0,5):\n",
        "    print(i)\n",
        "else:print(\"for loop completely exhausted, since there is no break.\")"
      ],
      "metadata": {
        "id": "nZJxlZE1WzSN"
      },
      "execution_count": null,
      "outputs": []
    },
    {
      "cell_type": "code",
      "source": [
        "#------------While Loop-------------\n",
        "# while loop is to be used in the scenario where we don't know the number of iterations in advance.\n",
        "#The block of statements is executed in the while loop until the condition specified in while loop\n",
        "#is satisfied.\n",
        "#Example1:\n",
        "i=1;\n",
        "while i<=10:\n",
        "    print(i);\n",
        "    i=i+1;\n"
      ],
      "metadata": {
        "id": "bPP7dHqBW3Ci"
      },
      "execution_count": null,
      "outputs": []
    },
    {
      "cell_type": "code",
      "source": [
        "#Example2:\n",
        "i=1\n",
        "number=0\n",
        "\n",
        "number = int(input(\"Enter the number?\"))\n",
        "while i<=10:\n",
        "    print(\"%a X %a = %a \\n\"%(number,i,number*i));\n",
        "    i = i+1;\n"
      ],
      "metadata": {
        "id": "s0KcgNBCW5sQ"
      },
      "execution_count": null,
      "outputs": []
    },
    {
      "cell_type": "code",
      "source": [
        "#Example3:Infinite while loop\n",
        "var = 1\n",
        "while var != 2:\n",
        "    i = int(input(\"Enter the number?\"))\n",
        "    print (\"Entered value is %d\"%(i))\n",
        "\n",
        "while (1):\n",
        "    print(\"Hi! we are inside the infinite while loop\");\n",
        "\n",
        "# For loop is ran finite no. of times even if we give only one value\n",
        "for i in range(0,1):\n",
        "    print(\"Hi! we are inside the finite for loop\");"
      ],
      "metadata": {
        "id": "HRantJGOXCYb"
      },
      "execution_count": null,
      "outputs": []
    },
    {
      "cell_type": "code",
      "source": [
        "#Example4: Using else with while loop\n",
        "i=1;\n",
        "while i<=5:\n",
        "    print(i)\n",
        "    i=i+1;\n",
        "else:print(\"The while loop exhausted\");\n"
      ],
      "metadata": {
        "id": "oh0FzJzeXDo4"
      },
      "execution_count": null,
      "outputs": []
    },
    {
      "cell_type": "code",
      "source": [
        "#-------------If Statement----------------\n",
        "#The if statement is used to test a specific condition.\n",
        "#If the condition is true, a block of code (if-block) will be executed.\n",
        "#Exampl1:\n",
        "num = int(input(\"enter the number?\"))\n",
        "if num%2 == 0:\n",
        "    print(\"Number is even\")"
      ],
      "metadata": {
        "id": "-vyuYgp_XLro"
      },
      "execution_count": null,
      "outputs": []
    },
    {
      "cell_type": "code",
      "source": [
        "#Example2:\n",
        "a = int(input(\"Enter a? \"));\n",
        "b = int(input(\"Enter b? \"));\n",
        "c = int(input(\"Enter c? \"));\n",
        "if a>b and a>c:\n",
        "    print(\"a is largest\");\n",
        "\n",
        "if b>a and b>c:\n",
        "    print(\"b is largest\");\n",
        "\n",
        "if c>a and c>b:\n",
        "    print(\"c is largest\");\n"
      ],
      "metadata": {
        "id": "HTPolxXmXSA1"
      },
      "execution_count": null,
      "outputs": []
    },
    {
      "cell_type": "code",
      "source": [
        "#-----------If Else Statement-------------\n",
        "#If the condition provided in the if statement is false, then the else statement will be executed.\n",
        "#Example1:\n",
        "age = int (input(\"Enter your age? \"))\n",
        "if age>=18:\n",
        "    print(\"You are eligible to vote !!\");\n",
        "else:\n",
        "    print(\"Sorry! you have to wait !!\");"
      ],
      "metadata": {
        "id": "mgCOul3TXVkR"
      },
      "execution_count": null,
      "outputs": []
    },
    {
      "cell_type": "code",
      "source": [
        "#Example2:\n",
        "num = int (input(\"enter the number?\"))\n",
        "if num%2 == 0:\n",
        "    print(\"Number is even...\")\n",
        "else:\n",
        "    print(\"Number is odd...\")"
      ],
      "metadata": {
        "id": "a5E4EAJyXYda"
      },
      "execution_count": null,
      "outputs": []
    },
    {
      "cell_type": "code",
      "source": [
        "#-------Elif Statement------------------\n",
        "#The elif statement enables us to check multiple conditions and execute the specific block of\n",
        "#statements depending upon the true condition among them.It works like if-else-if ladder statement.\n",
        "#Example:\n",
        "number = int(input(\"Enter the number?\"))\n",
        "if number==10:\n",
        "    print(\"number is equals to 10\")\n",
        "elif number==50:\n",
        "    print(\"number is equal to 50\");\n",
        "elif number==100:\n",
        "    print(\"number is equal to 100\");\n",
        "else:\n",
        "    print(\"number is not equal to 10, 50 or 100\");"
      ],
      "metadata": {
        "id": "UyEkoBELXZaa"
      },
      "execution_count": null,
      "outputs": []
    }
  ]
}